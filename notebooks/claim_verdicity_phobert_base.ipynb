{
  "nbformat": 4,
  "nbformat_minor": 0,
  "metadata": {
    "colab": {
      "provenance": [],
      "gpuType": "L4",
      "machine_shape": "hm"
    },
    "kernelspec": {
      "name": "python3",
      "display_name": "Python 3"
    },
    "language_info": {
      "name": "python"
    },
    "accelerator": "GPU"
  },
  "cells": [
    {
      "cell_type": "code",
      "source": [
        "from google.colab import drive\n",
        "drive.mount('/content/drive')"
      ],
      "metadata": {
        "colab": {
          "base_uri": "https://localhost:8080/"
        },
        "id": "SAp-onQU1FIp",
        "outputId": "0e8ffa3b-e9dc-4631-8fd7-3c2b9ddd6645"
      },
      "execution_count": 1,
      "outputs": [
        {
          "output_type": "stream",
          "name": "stdout",
          "text": [
            "Mounted at /content/drive\n"
          ]
        }
      ]
    },
    {
      "cell_type": "code",
      "source": [
        "!pip install py_vncorenlp"
      ],
      "metadata": {
        "colab": {
          "base_uri": "https://localhost:8080/"
        },
        "id": "M9JIOftw-ht2",
        "outputId": "1ea2421e-991d-4c3f-ee49-11a95afb591c"
      },
      "execution_count": 2,
      "outputs": [
        {
          "output_type": "stream",
          "name": "stdout",
          "text": [
            "Collecting py_vncorenlp\n",
            "  Downloading py_vncorenlp-0.1.4.tar.gz (3.9 kB)\n",
            "  Preparing metadata (setup.py) ... \u001b[?25l\u001b[?25hdone\n",
            "Collecting pyjnius (from py_vncorenlp)\n",
            "  Downloading pyjnius-1.6.1-cp311-cp311-manylinux_2_17_x86_64.manylinux2014_x86_64.whl.metadata (10 kB)\n",
            "Downloading pyjnius-1.6.1-cp311-cp311-manylinux_2_17_x86_64.manylinux2014_x86_64.whl (1.6 MB)\n",
            "\u001b[2K   \u001b[90m━━━━━━━━━━━━━━━━━━━━━━━━━━━━━━━━━━━━━━━━\u001b[0m \u001b[32m1.6/1.6 MB\u001b[0m \u001b[31m60.7 MB/s\u001b[0m eta \u001b[36m0:00:00\u001b[0m\n",
            "\u001b[?25hBuilding wheels for collected packages: py_vncorenlp\n",
            "  Building wheel for py_vncorenlp (setup.py) ... \u001b[?25l\u001b[?25hdone\n",
            "  Created wheel for py_vncorenlp: filename=py_vncorenlp-0.1.4-py3-none-any.whl size=4304 sha256=480a6a6e053987abe28663269e735310eda39644fe61b2abe5ec6e0fbc13baf2\n",
            "  Stored in directory: /root/.cache/pip/wheels/6d/2d/d6/158260bfd6820d144535857b80cc112bee5c3aa6d81b6dc049\n",
            "Successfully built py_vncorenlp\n",
            "Installing collected packages: pyjnius, py_vncorenlp\n",
            "Successfully installed py_vncorenlp-0.1.4 pyjnius-1.6.1\n"
          ]
        }
      ]
    },
    {
      "cell_type": "code",
      "source": [
        "import py_vncorenlp\n",
        "import os\n",
        "\n",
        "# Define the save directory\n",
        "save_dir = '/content/vncorenlp'\n",
        "\n",
        "# Create the save directory if it doesn't exist\n",
        "if not os.path.exists(save_dir):\n",
        "    os.makedirs(save_dir)\n",
        "\n",
        "# Download the model\n",
        "py_vncorenlp.download_model(save_dir=save_dir)\n",
        "\n",
        "# Load the word and sentence segmentation component\n",
        "rdrsegmenter = py_vncorenlp.VnCoreNLP(annotators=[\"wseg\"], save_dir=save_dir)"
      ],
      "metadata": {
        "id": "HDCXWRWc-kfK"
      },
      "execution_count": 3,
      "outputs": []
    },
    {
      "cell_type": "code",
      "source": [
        "text = \"Ông Nguyễn Khắc Chúc  đang làm việc tại Đại học Quốc gia Hà Nội. Bà Lan, vợ ông Chúc, cũng làm việc tại đây.\"\n",
        "\n",
        "output = rdrsegmenter.word_segment(text)\n"
      ],
      "metadata": {
        "id": "PcO703aU-0kQ"
      },
      "execution_count": 4,
      "outputs": []
    },
    {
      "cell_type": "code",
      "source": [
        "import re\n",
        "def remove_emoji(text):\n",
        "    # Sử dụng biểu thức chính quy để loại bỏ emoji\n",
        "    emoji_pattern = re.compile(\n",
        "        \"[\\U0001F600-\\U0001F64F\"  # Mặt cười\n",
        "        \"\\U0001F300-\\U0001F5FF\"  # Ký hiệu & biểu tượng\n",
        "        \"\\U0001F680-\\U0001F6FF\"  # Giao thông & biển báo\n",
        "        \"\\U0001F700-\\U0001F77F\"  # Các biểu tượng khác\n",
        "        \"\\U0001F780-\\U0001F7FF\"  # Các biểu tượng bổ sung\n",
        "        \"\\U0001F800-\\U0001F8FF\"  # Các ký hiệu bổ sung\n",
        "        \"\\U0001F900-\\U0001F9FF\"  # Biểu tượng bổ sung (ví dụ: tay, khuôn mặt)\n",
        "        \"\\U0001FA00-\\U0001FA6F\"  # Biểu tượng bổ sung mới\n",
        "        \"\\U0001FA70-\\U0001FAFF\"  # Biểu tượng bổ sung mới\n",
        "        \"\\U00002702-\\U000027B0\"  # Ký hiệu bổ sung\n",
        "        \"\\U000024C2-\\U0001F251\"  # Ký tự đặc biệt\n",
        "        \"]+\", flags=re.UNICODE\n",
        "    )\n",
        "    return emoji_pattern.sub(\" \", text)\n",
        "\n",
        "def preprocess_text(text):\n",
        "    # Chuẩn hóa Unicode (NFC)\n",
        "\n",
        "    # Loại bỏ emoji\n",
        "    text = remove_emoji(text)\n",
        "\n",
        "    # Loại bỏ các ký tự không phải chữ cái, số và khoảng trắng (bao gồm cả tiếng Việt)\n",
        "    text = re.sub(r\"[^a-zA-Z0-9À-ỹà-ỹ\\s]\", \" \", text)\n",
        "\n",
        "    # Chuyển văn bản về chữ thường\n",
        "    text = text.lower()\n",
        "\n",
        "    # Loại bỏ khoảng trắng thừa\n",
        "    text = re.sub(r\"\\s+\", \" \", text).strip()\n",
        "    text = rdrsegmenter.word_segment(text)\n",
        "    return \"\".join(text)"
      ],
      "metadata": {
        "id": "C96lUa5dCmTf"
      },
      "execution_count": 5,
      "outputs": []
    },
    {
      "cell_type": "code",
      "source": [
        "output"
      ],
      "metadata": {
        "colab": {
          "base_uri": "https://localhost:8080/"
        },
        "id": "OaH_D2tC-2kv",
        "outputId": "393c7a7c-e870-4c2b-f665-4dbec15a63b4"
      },
      "execution_count": 6,
      "outputs": [
        {
          "output_type": "execute_result",
          "data": {
            "text/plain": [
              "['Ông Nguyễn_Khắc_Chúc đang làm_việc tại Đại_học Quốc_gia Hà_Nội .',\n",
              " 'Bà Lan , vợ ông Chúc , cũng làm_việc tại đây .']"
            ]
          },
          "metadata": {},
          "execution_count": 6
        }
      ]
    },
    {
      "cell_type": "code",
      "source": [
        "import pandas as pd\n",
        "\n",
        "df_dev = pd.read_parquet(\"/content/dev-00000-of-00001.parquet\")\n",
        "df_test = pd.read_parquet(\"/content/test-00000-of-00001.parquet\")\n",
        "df_train = pd.read_parquet(\"/content/train-00000-of-00001.parquet\")\n"
      ],
      "metadata": {
        "id": "LQd2F4gu15_L"
      },
      "execution_count": 8,
      "outputs": []
    },
    {
      "cell_type": "code",
      "source": [
        "df_train['Statement'] = df_train['Statement'].apply(preprocess_text)\n",
        "df_train['Evidence'] = df_train['Evidence'].apply(preprocess_text)\n",
        "df_dev['Statement'] = df_dev['Statement'].apply(preprocess_text)\n",
        "df_dev['Evidence'] = df_dev['Evidence'].apply(preprocess_text)\n",
        "df_test['Statement'] = df_test['Statement'].apply(preprocess_text)\n",
        "df_test['Evidence'] = df_test['Evidence'].apply(preprocess_text)"
      ],
      "metadata": {
        "id": "ngXcKSF9CtSr"
      },
      "execution_count": 9,
      "outputs": []
    },
    {
      "cell_type": "code",
      "source": [
        "len(df_dev), len(df_test), len(df_train)"
      ],
      "metadata": {
        "colab": {
          "base_uri": "https://localhost:8080/"
        },
        "id": "UZBTSHhz2zzg",
        "outputId": "3a6ba19c-c7f2-4271-8729-e832ad4dc42a"
      },
      "execution_count": 10,
      "outputs": [
        {
          "output_type": "execute_result",
          "data": {
            "text/plain": [
              "(723, 1447, 5062)"
            ]
          },
          "metadata": {},
          "execution_count": 10
        }
      ]
    },
    {
      "cell_type": "code",
      "source": [
        "\n",
        "df_dev.head(3)"
      ],
      "metadata": {
        "colab": {
          "base_uri": "https://localhost:8080/",
          "height": 213
        },
        "id": "0A5cv4Ov9Pc0",
        "outputId": "361b6cef-47a5-47ac-da37-b780cfd3c919"
      },
      "execution_count": 11,
      "outputs": [
        {
          "output_type": "execute_result",
          "data": {
            "text/plain": [
              "   Unnamed: 0  index                                          Statement  \\\n",
              "0           0   6040  vào tháng 4 1930 tl nhà_vua na_uy harald v vua...   \n",
              "1           1   5599  nhiều chi_bộ chỉ mua báo đảng mà không quan_tâ...   \n",
              "2           2   1947  công_ty tnhh mua_bán nợ dsp địa_chỉ 91 pasteur...   \n",
              "\n",
              "                                             Context  annotation_id  \\\n",
              "0  Saigon Morin, khách sạn 4 sao hàng đầu tại Huế...       18220511   \n",
              "1  (Chinhphu.vn) - Bí thư Trung ương Đảng, Trưởng...       18537674   \n",
              "2  (NLĐO)- Sau khi mua khoản nợ từ Công ty Mirae ...       19570487   \n",
              "\n",
              "       Topic          Author  \\\n",
              "0    Du lịch      Thanh Niên   \n",
              "1  Chính trị       Chính Phủ   \n",
              "2  Pháp luật  Người lao động   \n",
              "\n",
              "                                                 Url  labels  \\\n",
              "0  https://thanhnien.vn/khach-san-lau-doi-nhat-co...       1   \n",
              "1  https://baochinhphu.vn/phat-huy-gia-tri-bao-ta...       1   \n",
              "2  https://nld.com.vn/phap-luat/cong-ty-o-tp-hcm-...       1   \n",
              "\n",
              "                                            Evidence  \n",
              "0  vua hề charlie chaplin vua hề_sác lô và vợ từn...  \n",
              "1  việc mua đọc sử_dụng báo tạp_chí của đảng tại ...  \n",
              "2  công_ty tnhh mua_bán nợ dsp địa_chỉ tầng 4 chu...  "
            ],
            "text/html": [
              "\n",
              "  <div id=\"df-7917744b-bd32-42b8-bb23-43a99837d9dd\" class=\"colab-df-container\">\n",
              "    <div>\n",
              "<style scoped>\n",
              "    .dataframe tbody tr th:only-of-type {\n",
              "        vertical-align: middle;\n",
              "    }\n",
              "\n",
              "    .dataframe tbody tr th {\n",
              "        vertical-align: top;\n",
              "    }\n",
              "\n",
              "    .dataframe thead th {\n",
              "        text-align: right;\n",
              "    }\n",
              "</style>\n",
              "<table border=\"1\" class=\"dataframe\">\n",
              "  <thead>\n",
              "    <tr style=\"text-align: right;\">\n",
              "      <th></th>\n",
              "      <th>Unnamed: 0</th>\n",
              "      <th>index</th>\n",
              "      <th>Statement</th>\n",
              "      <th>Context</th>\n",
              "      <th>annotation_id</th>\n",
              "      <th>Topic</th>\n",
              "      <th>Author</th>\n",
              "      <th>Url</th>\n",
              "      <th>labels</th>\n",
              "      <th>Evidence</th>\n",
              "    </tr>\n",
              "  </thead>\n",
              "  <tbody>\n",
              "    <tr>\n",
              "      <th>0</th>\n",
              "      <td>0</td>\n",
              "      <td>6040</td>\n",
              "      <td>vào tháng 4 1930 tl nhà_vua na_uy harald v vua...</td>\n",
              "      <td>Saigon Morin, khách sạn 4 sao hàng đầu tại Huế...</td>\n",
              "      <td>18220511</td>\n",
              "      <td>Du lịch</td>\n",
              "      <td>Thanh Niên</td>\n",
              "      <td>https://thanhnien.vn/khach-san-lau-doi-nhat-co...</td>\n",
              "      <td>1</td>\n",
              "      <td>vua hề charlie chaplin vua hề_sác lô và vợ từn...</td>\n",
              "    </tr>\n",
              "    <tr>\n",
              "      <th>1</th>\n",
              "      <td>1</td>\n",
              "      <td>5599</td>\n",
              "      <td>nhiều chi_bộ chỉ mua báo đảng mà không quan_tâ...</td>\n",
              "      <td>(Chinhphu.vn) - Bí thư Trung ương Đảng, Trưởng...</td>\n",
              "      <td>18537674</td>\n",
              "      <td>Chính trị</td>\n",
              "      <td>Chính Phủ</td>\n",
              "      <td>https://baochinhphu.vn/phat-huy-gia-tri-bao-ta...</td>\n",
              "      <td>1</td>\n",
              "      <td>việc mua đọc sử_dụng báo tạp_chí của đảng tại ...</td>\n",
              "    </tr>\n",
              "    <tr>\n",
              "      <th>2</th>\n",
              "      <td>2</td>\n",
              "      <td>1947</td>\n",
              "      <td>công_ty tnhh mua_bán nợ dsp địa_chỉ 91 pasteur...</td>\n",
              "      <td>(NLĐO)- Sau khi mua khoản nợ từ Công ty Mirae ...</td>\n",
              "      <td>19570487</td>\n",
              "      <td>Pháp luật</td>\n",
              "      <td>Người lao động</td>\n",
              "      <td>https://nld.com.vn/phap-luat/cong-ty-o-tp-hcm-...</td>\n",
              "      <td>1</td>\n",
              "      <td>công_ty tnhh mua_bán nợ dsp địa_chỉ tầng 4 chu...</td>\n",
              "    </tr>\n",
              "  </tbody>\n",
              "</table>\n",
              "</div>\n",
              "    <div class=\"colab-df-buttons\">\n",
              "\n",
              "  <div class=\"colab-df-container\">\n",
              "    <button class=\"colab-df-convert\" onclick=\"convertToInteractive('df-7917744b-bd32-42b8-bb23-43a99837d9dd')\"\n",
              "            title=\"Convert this dataframe to an interactive table.\"\n",
              "            style=\"display:none;\">\n",
              "\n",
              "  <svg xmlns=\"http://www.w3.org/2000/svg\" height=\"24px\" viewBox=\"0 -960 960 960\">\n",
              "    <path d=\"M120-120v-720h720v720H120Zm60-500h600v-160H180v160Zm220 220h160v-160H400v160Zm0 220h160v-160H400v160ZM180-400h160v-160H180v160Zm440 0h160v-160H620v160ZM180-180h160v-160H180v160Zm440 0h160v-160H620v160Z\"/>\n",
              "  </svg>\n",
              "    </button>\n",
              "\n",
              "  <style>\n",
              "    .colab-df-container {\n",
              "      display:flex;\n",
              "      gap: 12px;\n",
              "    }\n",
              "\n",
              "    .colab-df-convert {\n",
              "      background-color: #E8F0FE;\n",
              "      border: none;\n",
              "      border-radius: 50%;\n",
              "      cursor: pointer;\n",
              "      display: none;\n",
              "      fill: #1967D2;\n",
              "      height: 32px;\n",
              "      padding: 0 0 0 0;\n",
              "      width: 32px;\n",
              "    }\n",
              "\n",
              "    .colab-df-convert:hover {\n",
              "      background-color: #E2EBFA;\n",
              "      box-shadow: 0px 1px 2px rgba(60, 64, 67, 0.3), 0px 1px 3px 1px rgba(60, 64, 67, 0.15);\n",
              "      fill: #174EA6;\n",
              "    }\n",
              "\n",
              "    .colab-df-buttons div {\n",
              "      margin-bottom: 4px;\n",
              "    }\n",
              "\n",
              "    [theme=dark] .colab-df-convert {\n",
              "      background-color: #3B4455;\n",
              "      fill: #D2E3FC;\n",
              "    }\n",
              "\n",
              "    [theme=dark] .colab-df-convert:hover {\n",
              "      background-color: #434B5C;\n",
              "      box-shadow: 0px 1px 3px 1px rgba(0, 0, 0, 0.15);\n",
              "      filter: drop-shadow(0px 1px 2px rgba(0, 0, 0, 0.3));\n",
              "      fill: #FFFFFF;\n",
              "    }\n",
              "  </style>\n",
              "\n",
              "    <script>\n",
              "      const buttonEl =\n",
              "        document.querySelector('#df-7917744b-bd32-42b8-bb23-43a99837d9dd button.colab-df-convert');\n",
              "      buttonEl.style.display =\n",
              "        google.colab.kernel.accessAllowed ? 'block' : 'none';\n",
              "\n",
              "      async function convertToInteractive(key) {\n",
              "        const element = document.querySelector('#df-7917744b-bd32-42b8-bb23-43a99837d9dd');\n",
              "        const dataTable =\n",
              "          await google.colab.kernel.invokeFunction('convertToInteractive',\n",
              "                                                    [key], {});\n",
              "        if (!dataTable) return;\n",
              "\n",
              "        const docLinkHtml = 'Like what you see? Visit the ' +\n",
              "          '<a target=\"_blank\" href=https://colab.research.google.com/notebooks/data_table.ipynb>data table notebook</a>'\n",
              "          + ' to learn more about interactive tables.';\n",
              "        element.innerHTML = '';\n",
              "        dataTable['output_type'] = 'display_data';\n",
              "        await google.colab.output.renderOutput(dataTable, element);\n",
              "        const docLink = document.createElement('div');\n",
              "        docLink.innerHTML = docLinkHtml;\n",
              "        element.appendChild(docLink);\n",
              "      }\n",
              "    </script>\n",
              "  </div>\n",
              "\n",
              "\n",
              "    <div id=\"df-dbacd384-a4de-4fba-9796-ae31bd404184\">\n",
              "      <button class=\"colab-df-quickchart\" onclick=\"quickchart('df-dbacd384-a4de-4fba-9796-ae31bd404184')\"\n",
              "                title=\"Suggest charts\"\n",
              "                style=\"display:none;\">\n",
              "\n",
              "<svg xmlns=\"http://www.w3.org/2000/svg\" height=\"24px\"viewBox=\"0 0 24 24\"\n",
              "     width=\"24px\">\n",
              "    <g>\n",
              "        <path d=\"M19 3H5c-1.1 0-2 .9-2 2v14c0 1.1.9 2 2 2h14c1.1 0 2-.9 2-2V5c0-1.1-.9-2-2-2zM9 17H7v-7h2v7zm4 0h-2V7h2v10zm4 0h-2v-4h2v4z\"/>\n",
              "    </g>\n",
              "</svg>\n",
              "      </button>\n",
              "\n",
              "<style>\n",
              "  .colab-df-quickchart {\n",
              "      --bg-color: #E8F0FE;\n",
              "      --fill-color: #1967D2;\n",
              "      --hover-bg-color: #E2EBFA;\n",
              "      --hover-fill-color: #174EA6;\n",
              "      --disabled-fill-color: #AAA;\n",
              "      --disabled-bg-color: #DDD;\n",
              "  }\n",
              "\n",
              "  [theme=dark] .colab-df-quickchart {\n",
              "      --bg-color: #3B4455;\n",
              "      --fill-color: #D2E3FC;\n",
              "      --hover-bg-color: #434B5C;\n",
              "      --hover-fill-color: #FFFFFF;\n",
              "      --disabled-bg-color: #3B4455;\n",
              "      --disabled-fill-color: #666;\n",
              "  }\n",
              "\n",
              "  .colab-df-quickchart {\n",
              "    background-color: var(--bg-color);\n",
              "    border: none;\n",
              "    border-radius: 50%;\n",
              "    cursor: pointer;\n",
              "    display: none;\n",
              "    fill: var(--fill-color);\n",
              "    height: 32px;\n",
              "    padding: 0;\n",
              "    width: 32px;\n",
              "  }\n",
              "\n",
              "  .colab-df-quickchart:hover {\n",
              "    background-color: var(--hover-bg-color);\n",
              "    box-shadow: 0 1px 2px rgba(60, 64, 67, 0.3), 0 1px 3px 1px rgba(60, 64, 67, 0.15);\n",
              "    fill: var(--button-hover-fill-color);\n",
              "  }\n",
              "\n",
              "  .colab-df-quickchart-complete:disabled,\n",
              "  .colab-df-quickchart-complete:disabled:hover {\n",
              "    background-color: var(--disabled-bg-color);\n",
              "    fill: var(--disabled-fill-color);\n",
              "    box-shadow: none;\n",
              "  }\n",
              "\n",
              "  .colab-df-spinner {\n",
              "    border: 2px solid var(--fill-color);\n",
              "    border-color: transparent;\n",
              "    border-bottom-color: var(--fill-color);\n",
              "    animation:\n",
              "      spin 1s steps(1) infinite;\n",
              "  }\n",
              "\n",
              "  @keyframes spin {\n",
              "    0% {\n",
              "      border-color: transparent;\n",
              "      border-bottom-color: var(--fill-color);\n",
              "      border-left-color: var(--fill-color);\n",
              "    }\n",
              "    20% {\n",
              "      border-color: transparent;\n",
              "      border-left-color: var(--fill-color);\n",
              "      border-top-color: var(--fill-color);\n",
              "    }\n",
              "    30% {\n",
              "      border-color: transparent;\n",
              "      border-left-color: var(--fill-color);\n",
              "      border-top-color: var(--fill-color);\n",
              "      border-right-color: var(--fill-color);\n",
              "    }\n",
              "    40% {\n",
              "      border-color: transparent;\n",
              "      border-right-color: var(--fill-color);\n",
              "      border-top-color: var(--fill-color);\n",
              "    }\n",
              "    60% {\n",
              "      border-color: transparent;\n",
              "      border-right-color: var(--fill-color);\n",
              "    }\n",
              "    80% {\n",
              "      border-color: transparent;\n",
              "      border-right-color: var(--fill-color);\n",
              "      border-bottom-color: var(--fill-color);\n",
              "    }\n",
              "    90% {\n",
              "      border-color: transparent;\n",
              "      border-bottom-color: var(--fill-color);\n",
              "    }\n",
              "  }\n",
              "</style>\n",
              "\n",
              "      <script>\n",
              "        async function quickchart(key) {\n",
              "          const quickchartButtonEl =\n",
              "            document.querySelector('#' + key + ' button');\n",
              "          quickchartButtonEl.disabled = true;  // To prevent multiple clicks.\n",
              "          quickchartButtonEl.classList.add('colab-df-spinner');\n",
              "          try {\n",
              "            const charts = await google.colab.kernel.invokeFunction(\n",
              "                'suggestCharts', [key], {});\n",
              "          } catch (error) {\n",
              "            console.error('Error during call to suggestCharts:', error);\n",
              "          }\n",
              "          quickchartButtonEl.classList.remove('colab-df-spinner');\n",
              "          quickchartButtonEl.classList.add('colab-df-quickchart-complete');\n",
              "        }\n",
              "        (() => {\n",
              "          let quickchartButtonEl =\n",
              "            document.querySelector('#df-dbacd384-a4de-4fba-9796-ae31bd404184 button');\n",
              "          quickchartButtonEl.style.display =\n",
              "            google.colab.kernel.accessAllowed ? 'block' : 'none';\n",
              "        })();\n",
              "      </script>\n",
              "    </div>\n",
              "\n",
              "    </div>\n",
              "  </div>\n"
            ],
            "application/vnd.google.colaboratory.intrinsic+json": {
              "type": "dataframe",
              "variable_name": "df_dev",
              "summary": "{\n  \"name\": \"df_dev\",\n  \"rows\": 723,\n  \"fields\": [\n    {\n      \"column\": \"Unnamed: 0\",\n      \"properties\": {\n        \"dtype\": \"number\",\n        \"std\": 208,\n        \"min\": 0,\n        \"max\": 722,\n        \"num_unique_values\": 723,\n        \"samples\": [\n          336,\n          517,\n          598\n        ],\n        \"semantic_type\": \"\",\n        \"description\": \"\"\n      }\n    },\n    {\n      \"column\": \"index\",\n      \"properties\": {\n        \"dtype\": \"number\",\n        \"std\": 2169,\n        \"min\": 47,\n        \"max\": 7544,\n        \"num_unique_values\": 723,\n        \"samples\": [\n          5790,\n          7072,\n          161\n        ],\n        \"semantic_type\": \"\",\n        \"description\": \"\"\n      }\n    },\n    {\n      \"column\": \"Statement\",\n      \"properties\": {\n        \"dtype\": \"string\",\n        \"num_unique_values\": 723,\n        \"samples\": [\n          \"g\\u1ea7n 3 4 d\\u00e2n_s\\u1ed1 to\\u00e0n_c\\u1ea7u t\\u1eeb 10 tu\\u1ed5i tr\\u1edf l\\u00ean s\\u1edf_h\\u1eefu \\u0111i\\u1ec7n_tho\\u1ea1i_di_\\u0111\\u1ed9ng v\\u00e0 t\\u1ef7_l\\u1ec7 s\\u1edf_h\\u1eefu \\u0111i\\u1ec7n_tho\\u1ea1i \\u1edf c\\u00e1c n\\u01b0\\u1edbc c\\u00f3 thu_nh\\u1eadp th\\u1ea5p th\\u00ec cao h\\u01a1n t\\u1ef7_l\\u1ec7 s\\u1eed_d\\u1ee5ng m\\u1ea1ng internet\",\n          \"xe_kh\\u00e1ch va_ch\\u1ea1m v\\u1edbi xe_m\\u00e1y t\\u00e0i_x\\u1ebf xe_kh\\u00e1ch b\\u1ecb v\\u0103ng ra ngo\\u00e0i \\u0111\\u1ea7u ti\\u1ebfp \\u0111\\u1ea5t t\\u1eed_vong t\\u1ea1i_ch\\u1ed7\",\n          \"nhi\\u1ec7m_v\\u1ee5 chi\\u1ebfn_l\\u01b0\\u1ee3c th\\u01b0\\u1eddng_xuy\\u00ean c\\u1ee7a \\u0111\\u1ea3ng nh\\u00e0_n\\u01b0\\u1edbc ch\\u00ednh l\\u00e0 ti\\u1ebfp_t\\u1ee5c \\u0111\\u1ed5i_m\\u1edbi ph\\u00e1t_huy hi\\u1ec7u_qu\\u1ea3 ch\\u00ednh_s\\u00e1ch_x\\u00e3_h\\u1ed9i nh\\u01b0ng c\\u0169ng c\\u00f3 nh\\u1eefng h\\u1ea1n_ch\\u1ebf s\\u1ebd g\\u1eb7p ph\\u1ea3i khi ch\\u00ednh_s\\u00e1ch_x\\u00e3_h\\u1ed9i c\\u00f2n thi\\u1ebfu t\\u00ednh bao_tr\\u00f9m kh\\u00f4ng c\\u00f3 s\\u1ef1 k\\u1ebft_n\\u1ed1i gi\\u1eefa c\\u00e1c ch\\u00ednh_s\\u00e1ch trong t\\u1ed5_ch\\u1ee9c t\\u1ef7_l\\u1ec7 bao_ph\\u1ee7 kh\\u00f4ng cao\"\n        ],\n        \"semantic_type\": \"\",\n        \"description\": \"\"\n      }\n    },\n    {\n      \"column\": \"Context\",\n      \"properties\": {\n        \"dtype\": \"string\",\n        \"num_unique_values\": 496,\n        \"samples\": [\n          \"(PLO)- Nguy\\u00ean Ch\\u1ee7 t\\u1ecbch UBND TP B\\u1ea3o L\\u1ed9c b\\u1ecb kh\\u1edfi t\\u1ed1 li\\u00ean quan \\u0111\\u1ebfn nh\\u1eefng sai ph\\u1ea1m trong vi\\u1ec7c giao tr\\u00e1i quy \\u0111\\u1ecbnh 71 l\\u00f4 \\u0111\\u1ea5t. Ng\\u00e0y 22-3, L\\u00e3nh \\u0111\\u1ea1o C\\u00f4ng an t\\u1ec9nh L\\u00e2m \\u0110\\u1ed3ng cho bi\\u1ebft \\u0111\\u00e3 kh\\u1edfi t\\u1ed1 v\\u1ee5 \\u00e1n, kh\\u1edfi t\\u1ed1 b\\u1ecb can v\\u1edbi \\u00f4ng Nguy\\u1ec5n Qu\\u1ed1c B\\u1eafc, nguy\\u00ean ch\\u1ee7 t\\u1ecbch UBND TP B\\u1ea3o L\\u1ed9c \\u0111\\u1ec3 \\u0111i\\u1ec1u tra v\\u1ec1 t\\u1ed9i thi\\u1ebfu tr\\u00e1ch nhi\\u1ec7m g\\u00e2y h\\u1eadu qu\\u1ea3 nghi\\u00eam tr\\u1ecdng. Th\\u00f4ng tin t\\u1eeb c\\u01a1 quan \\u0111i\\u1ec1u tra, \\u00f4ng Nguy\\u1ec5n Qu\\u1ed1c B\\u1eafc c\\u00f3 nhi\\u1ec1u sai ph\\u1ea1m trong vi\\u1ec7c giao \\u0111\\u1ea5t t\\u00e1i \\u0111\\u1ecbnh c\\u01b0 v\\u00e0 \\u0111\\u1ea5t \\u1edf kh\\u00f4ng th\\u00f4ng qua \\u0111\\u1ea5u gi\\u00e1 li\\u00ean quan \\u0111\\u1ebfn nhi\\u1ec1u d\\u1ef1 \\u00e1n nh\\u01b0: H\\u1ed3 \\u0110\\u1ed3ng Nai, h\\u1ed3 Nam Ph\\u01b0\\u01a1ng II, tuy\\u1ebfn tr\\u00e1nh Qu\\u1ed1c l\\u1ed9 20, Khu c\\u00f4ng nghi\\u1ec7p L\\u1ed9c S\\u01a1n. Trong \\u0111\\u00f3 c\\u00f3 18 tr\\u01b0\\u1eddng h\\u1ee3p \\u0111\\u01b0\\u1ee3c giao 20 l\\u00f4 \\u0111\\u1ea5t v\\u1edbi t\\u1ed5ng di\\u1ec7n t\\u00edch 2.232 m2 kh\\u00f4ng \\u0111\\u1ee7 \\u0111i\\u1ec1u ki\\u1ec7n b\\u1ed1 tr\\u00ed t\\u00e1i \\u0111\\u1ecbnh c\\u01b0. Ngo\\u00e0i ra, c\\u00f3 54 tr\\u01b0\\u1eddng h\\u1ee3p \\u0111\\u01b0\\u1ee3c giao \\u0111\\u1ea5t kh\\u00f4ng th\\u00f4ng qua h\\u00ecnh th\\u1ee9c \\u0111\\u1ea5u gi\\u00e1, c\\u00f3 42 tr\\u01b0\\u1eddng h\\u1ee3p \\u0111\\u01b0\\u1ee3c giao 51 l\\u00f4 \\u0111\\u1ea5t \\u1edf c\\u00f3 t\\u1ed5ng di\\u1ec7n t\\u00edch 5.443 m2 kh\\u00f4ng \\u0111\\u00fang quy \\u0111\\u1ecbnh, trong \\u0111\\u00f3 c\\u00f3 b\\u1ed1n tr\\u01b0\\u1eddng h\\u1ee3p \\u0111\\u01b0\\u1ee3c giao v\\u01b0\\u1ee3t h\\u1ea1n m\\u1ee9c \\u0111\\u1ea5t \\u1edf. C\\u00f9ng v\\u1edbi vi\\u1ec7c c\\u00f4ng b\\u1ed1 c\\u00e1c quy\\u1ebft \\u0111\\u1ecbnh kh\\u1edfi t\\u1ed1, c\\u01a1 quan CS\\u0110T c\\u0169ng \\u0111\\u00e3 kh\\u00e1m x\\u00e9t n\\u01a1i \\u1edf c\\u1ee7a \\u00f4ng B\\u1eafc \\u1edf s\\u1ed1 45 \\u0111\\u01b0\\u1eddng L\\u00ea Th\\u1ecb Pha, ph\\u01b0\\u1eddng 1, Th\\u00e0nh ph\\u1ed1 B\\u1ea3o L\\u1ed9c.\",\n          \"(PLO)- \\u0110\\u00edch \\u0111\\u1ebfn c\\u1ee7a h\\u1ed9i ngh\\u1ecb l\\u00e0 \\u0111\\u01b0a ra c\\u00e1c gi\\u1ea3i ph\\u00e1p \\u0111\\u1ec3 n\\u00e2ng cao ch\\u1ea5t l\\u01b0\\u1ee3ng c\\u1ee7a ho\\u1ea1t \\u0111\\u1ed9ng giao th\\u01b0\\u01a1ng v\\u00e0 x\\u00fac ti\\u1ebfn \\u0111\\u1ea7u t\\u01b0 gi\\u1eefa TP.HCM c\\u00f9ng c\\u00e1c t\\u1ec9nh trong v\\u00f9ng \\u0110\\u00f4ng Nam B\\u1ed9. Chi\\u1ec1u 17-3, t\\u1ea1i B\\u00ecnh Ph\\u01b0\\u1edbc, UBND TP.HCM ph\\u1ed1i h\\u1ee3p c\\u00f9ng UBND t\\u1ec9nh B\\u00ecnh Ph\\u01b0\\u1edbc t\\u1ed5 ch\\u1ee9c h\\u1ed9i ngh\\u1ecb k\\u1ebft n\\u1ed1i giao th\\u01b0\\u01a1ng v\\u00e0 x\\u00fac ti\\u1ebfn \\u0111\\u1ea7u t\\u01b0 gi\\u1eefa TP.HCM v\\u00e0 c\\u00e1c t\\u1ec9nh trong v\\u00f9ng \\u0110\\u00f4ng Nam B\\u1ed9 (B\\u00ecnh D\\u01b0\\u01a1ng, B\\u00e0 R\\u1ecba-V\\u0169ng T\\u00e0u, \\u0110\\u1ed3ng Nai, T\\u00e2y Ninh, B\\u00ecnh Ph\\u01b0\\u1edbc). T\\u1ea1i h\\u1ed9i ngh\\u1ecb, ngo\\u00e0i l\\u00e3nh \\u0111\\u1ea1o c\\u1ee7a c\\u00e1c t\\u1ec9nh tr\\u00ean c\\u00f2n c\\u00f3 h\\u00e0ng tr\\u0103m doanh nghi\\u1ec7p, nh\\u00e0 \\u0111\\u1ea7u t\\u01b0 tr\\u00ean kh\\u1eafp c\\u1ea3 n\\u01b0\\u1edbc tham gia. Ph\\u00e1t bi\\u1ec3u t\\u1ea1i h\\u1ed9i ngh\\u1ecb, Ph\\u00f3 Ch\\u1ee7 t\\u1ecbch UBND TP.HCM V\\u00f5 V\\u0103n Hoan cho bi\\u1ebft TP.HCM v\\u00e0 c\\u00e1c \\u0111\\u1ecba ph\\u01b0\\u01a1ng trong v\\u00f9ng \\u0110\\u00f4ng Nam B\\u1ed9 c\\u00f3 m\\u1ed1i g\\u1eafn b\\u00f3 m\\u1eadt thi\\u1ebft v\\u1edbi nhau \\u0111\\u1ec3 c\\u00f9ng ph\\u00e1t tri\\u1ec3n. TP.HCM kh\\u00f4ng th\\u1ec3 ph\\u00e1t tri\\u1ec3n m\\u1ea1nh m\\u1ebd n\\u1ebfu t\\u00e1ch r\\u1eddi v\\u1edbi c\\u00e1c t\\u1ec9nh trong v\\u00f9ng \\u0110\\u00f4ng Nam B\\u1ed9. \\u00d4ng Hoan cho bi\\u1ebft th\\u00eam c\\u00e1c t\\u1ec9nh l\\u00e2n c\\u1eadn TP.HCM l\\u00e0 v\\u00f9ng nguy\\u00ean li\\u1ec7u quan tr\\u1ecdng, l\\u00e0 v\\u00f9ng cung c\\u1ea5p nh\\u00e2n l\\u1ef1c cho TP.HCM. B\\u00ean c\\u1ea1nh \\u0111\\u00f3, \\u00f4ng Hoan c\\u0169ng n\\u00eau r\\u00f5 ngo\\u00e0i vi\\u1ec7c ch\\u00ednh quy\\u1ec1n t\\u1eebng \\u0111\\u1ecba ph\\u01b0\\u01a1ng h\\u1ed7 tr\\u1ee3 h\\u1ebft m\\u00ecnh cho c\\u00e1c doanh nghi\\u1ec7p th\\u00ec m\\u1ed7i doanh nghi\\u1ec7p c\\u1ea7n ch\\u1ee7 \\u0111\\u1ed9ng th\\u00e1o g\\u1ee1 kh\\u00f3 kh\\u0103n c\\u1ee7a m\\u00ecnh; ch\\u1ee7 \\u0111\\u1ed9ng h\\u01a1n n\\u1eefa trong vi\\u1ec7c qu\\u1ea3ng b\\u00e1 s\\u1ea3n ph\\u1ea9m, tham gia c\\u00e1c s\\u00e0n giao d\\u1ecbch \\u0111i\\u1ec7n t\\u1eed\\u2026 C\\u0169ng t\\u1ea1i h\\u1ed9i ngh\\u1ecb n\\u00e0y, c\\u00e1c \\u0111\\u1ea1i bi\\u1ec3u t\\u1eadp trung th\\u1ea3o lu\\u1eadn ba v\\u1ea5n \\u0111\\u1ec1 ch\\u00ednh g\\u1ed3m k\\u1ebft n\\u1ed1i giao th\\u01b0\\u01a1ng, nh\\u1eb1m th\\u00e1o g\\u1ee1 nh\\u1eefng v\\u1ea5n \\u0111\\u1ec1 c\\u00f2n v\\u01b0\\u1edbng m\\u1eafc trong qu\\u00e1 tr\\u00ecnh k\\u1ebft n\\u1ed1i giao th\\u01b0\\u01a1ng gi\\u1eefa c\\u00e1c t\\u1ec9nh \\u0110\\u00f4ng Nam B\\u1ed9. Th\\u00fac \\u0111\\u1ea9y k\\u1ebft n\\u1ed1i h\\u1ed7 tr\\u1ee3 \\u0111\\u1ea7u t\\u01b0 nh\\u1eb1m th\\u00fac \\u0111\\u1ea9y ph\\u00e1t tri\\u1ec3n kinh t\\u1ebf c\\u00e1c t\\u1ec9nh v\\u00e0 khu v\\u1ef1c h\\u01a1n n\\u1eefa trong th\\u1eddi gian t\\u1edbi. \\u0110\\u1eb7c bi\\u1ec7t, TP.HCM mong mu\\u1ed1n nghe c\\u00e1c \\u00fd ki\\u1ebfn, \\u0111\\u1ec1 xu\\u1ea5t, ki\\u1ebfn ngh\\u1ecb c\\u1ee7a c\\u00e1c \\u0111\\u1ecba ph\\u01b0\\u01a1ng, doanh nghi\\u1ec7p\\u2026 li\\u00ean quan \\u0111\\u1ebfn \\u0111\\u1ea7u ra cho s\\u1ea3n ph\\u1ea9m. C\\u00e1c \\u0111\\u1ea1i bi\\u1ec3u t\\u1ea1i h\\u1ed9i ngh\\u1ecb \\u0111\\u00e3 th\\u1ea3o lu\\u1eadn s\\u00f4i n\\u1ed5i, \\u0111\\u00f3ng g\\u00f3p nhi\\u1ec1u \\u00fd ki\\u1ebfn, trong \\u0111\\u00f3 ch\\u1ec9 ra nh\\u1eefng h\\u1ea1n ch\\u1ebf, t\\u1ed3n t\\u1ea1i v\\u00e0 b\\u00e0i h\\u1ecdc kinh nghi\\u1ec7m. B\\u00ean c\\u1ea1nh \\u0111\\u00f3, nhi\\u1ec1u \\u00fd ki\\u1ebfn c\\u0169ng \\u0111\\u1ec1 xu\\u1ea5t c\\u00e1c gi\\u1ea3i ph\\u00e1p thi\\u1ebft th\\u1ef1c, g\\u00f3p ph\\u1ea7n n\\u00e2ng cao hi\\u1ec7u qu\\u1ea3 c\\u1ee7a c\\u00e1c ho\\u1ea1t \\u0111\\u1ed9ng x\\u00fac ti\\u1ebfn th\\u01b0\\u01a1ng m\\u1ea1i, k\\u1ebft n\\u1ed1i giao th\\u01b0\\u01a1ng, \\u01b0u \\u0111\\u00e3i v\\u1ec1 \\u0111\\u1ea7u t\\u01b0, ch\\u00ednh s\\u00e1ch m\\u1eddi g\\u1ecdi \\u0111\\u1ea7u t\\u01b0, c\\u00e1c l\\u0129nh v\\u1ef1c \\u01b0u ti\\u00ean m\\u1eddi g\\u1ecdi \\u0111\\u1ea7u t\\u01b0 c\\u1ee7a c\\u00e1c t\\u1ec9nh v\\u00e0 TP.HCM trong th\\u1eddi gian t\\u1edbi. Cu\\u1ed1i h\\u1ed9i ngh\\u1ecb \\u0111\\u00e3 di\\u1ec5n ra l\\u1ec5 k\\u00fd k\\u1ebft h\\u1ee3p t\\u00e1c gi\\u1eefa ch\\u00edn h\\u1ec7 th\\u1ed1ng ph\\u00e2n ph\\u1ed1i t\\u1ea1i TP.HCM v\\u1edbi 33 doanh nghi\\u1ec7p cung \\u1ee9ng t\\u1ea1i c\\u00e1c t\\u1ec9nh trong v\\u00f9ng \\u0110\\u00f4ng Nam B\\u1ed9. B\\u00ean l\\u1ec1 h\\u1ed9i ngh\\u1ecb c\\u0169ng di\\u1ec5n ra tri\\u1ec3n l\\u00e3m tr\\u01b0ng b\\u00e0y, gi\\u1edbi thi\\u1ec7u s\\u1ea3n ph\\u1ea9m c\\u1ee7a c\\u00e1c doanh nghi\\u1ec7p \\u1edf c\\u00e1c t\\u1ec9nh trong v\\u00f9ng \\u0110\\u00f4ng Nam B\\u1ed9 v\\u00e0 TP.HCM. Ng\\u00e0y mai, c\\u0169ng t\\u1ea1i B\\u00ecnh Ph\\u01b0\\u1edbc s\\u1ebd di\\u1ec5n ra h\\u1ed9i ngh\\u1ecb t\\u1ed5ng k\\u1ebft ch\\u01b0\\u01a1ng tr\\u00ecnh h\\u1ee3p t\\u00e1c ph\\u00e1t tri\\u1ec3n kinh t\\u1ebf - x\\u00e3 h\\u1ed9i gi\\u1eefa TP.HCM v\\u1edbi c\\u00e1c t\\u1ec9nh trong v\\u00f9ng \\u0110\\u00f4ng Nam b\\u1ed9.\",\n          \"(NL\\u0110O) \\u2013 Thi th\\u1ec3 n\\u1ea1n nh\\u00e2n th\\u1ee9 3 trong v\\u1ee5 n\\u1ed5 \\u0111\\u1ea7u \\u0111\\u1ea1n \\u1edf Kon Tum \\u0111\\u00e3 \\u0111\\u01b0\\u1ee3c chuy\\u1ec3n v\\u1ec1 nh\\u00e0 t\\u1ea1i th\\u00f4n Kon \\u0110ao Y\\u00f4p, x\\u00e3 \\u0110\\u0103k Long, huy\\u1ec7n \\u0110\\u0103k H\\u00e0 \\u0111\\u1ec3 mai t\\u00e1ng Sau 3 ng\\u00e0y \\u0111\\u01b0\\u1ee3c c\\u00e1c b\\u00e1c s\\u0129 t\\u00edch c\\u1ef1c c\\u1ee9u ch\\u1eefa, s\\u00e1ng nay (28-3), em A Ti\\u1ebfn (11 tu\\u1ed5i) - n\\u1ea1n nh\\u00e2n trong v\\u1ee5 n\\u1ed5 \\u0111\\u1ea7u \\u0111\\u1ea1n \\u1edf x\\u00e3 \\u0110\\u0103k Long, huy\\u1ec7n \\u0110\\u0103k H\\u00e0, t\\u1ec9nh Kon Tum - \\u0111\\u00e3 t\\u1eed vong t\\u1ea1i b\\u1ec7nh vi\\u1ec7n. Sau khi ho\\u00e0n t\\u1ea5t c\\u00e1c th\\u1ee7 t\\u1ee5c, thi th\\u1ec3 A Ti\\u1ebfn \\u0111\\u00e3 \\u0111\\u01b0\\u1ee3c chuy\\u1ec3n v\\u1ec1 nh\\u00e0 t\\u1ea1i th\\u00f4n Kon \\u0110ao Y\\u00f4p, x\\u00e3 \\u0110\\u0103k Long, huy\\u1ec7n \\u0110\\u0103k H\\u00e0 \\u0111\\u1ec3 mai t\\u00e1ng. Nh\\u01b0 v\\u1eady, \\u0111\\u1ebfn s\\u00e1ng 28-3, v\\u1ee5 n\\u1ed5 \\u0111\\u1ea7u \\u0111\\u1ea1n t\\u1ea1i th\\u00f4n Kon \\u0110ao Y\\u00f4p \\u0111\\u00e3 c\\u01b0\\u1edbp \\u0111i 3 sinh m\\u1ea1ng, 3 ng\\u01b0\\u1eddi kh\\u00e1c b\\u1ecb th\\u01b0\\u01a1ng. Sau 3 ng\\u00e0y \\u0111i\\u1ec1u tr\\u1ecb t\\u1ea1i b\\u1ec7nh vi\\u1ec7n, n\\u1ea1n nh\\u00e2n A Ti\\u1ebfn \\u0111\\u00e3 t\\u1eed vong Nh\\u01b0 B\\u00e1o Ng\\u01b0\\u1eddi Lao \\u0110\\u1ed9ng \\u0111\\u00e3 \\u0111\\u01b0a tin, chi\\u1ec1u 25-3, anh A Nhi (24 tu\\u1ed5i) \\u0111i l\\u00e0m r\\u1eaby c\\u00f9ng cha v\\u1ee3 l\\u00e0 \\u00f4ng A Tu (56 tu\\u1ed5i) v\\u00e0 v\\u1ee3 l\\u00e0 ch\\u1ecb Y Khung (23 tu\\u1ed5i, c\\u00f9ng tr\\u00fa th\\u00f4n Kon \\u0110ao Y\\u00f4p) th\\u00ec ph\\u00e1t hi\\u1ec7n \\u0111\\u1ea7u \\u0111\\u1ea1n \\u0111\\u01b0\\u1eddng k\\u00ednh 5cm, d\\u00e0i 30cm. Chi\\u1ec1u c\\u00f9ng ng\\u00e0y, anh A Nhi ch\\u1edf \\u0111\\u1ea7u \\u0111\\u1ea1n v\\u1ec1 nh\\u00e0 \\u00f4ng A Tu. T\\u1ea1i \\u0111\\u00e2y, anh A Nhi d\\u00f9ng dao ngh\\u1ecbch, t\\u00e1c \\u0111\\u1ed9ng khi\\u1ebfn \\u0111\\u1ea7u \\u0111\\u1ea1n ph\\u00e1t n\\u1ed5. V\\u1ee5 n\\u1ed5 l\\u00e0m anh A Nhi t\\u1eed vong t\\u1ea1i ch\\u1ed7 v\\u00e0 5 ng\\u01b0\\u1eddi kh\\u00e1c b\\u1ecb th\\u01b0\\u01a1ng, g\\u1ed3m ch\\u1ecb Y Khung; ch\\u00e1u A Ph\\u01b0\\u1edbc (4 tu\\u1ed5i, con anh A Nhi); ch\\u00e1u A Ti\\u1ebfn (em v\\u1ee3 A Nhi), A Thuy\\u00ean (c\\u00f9ng 13 tu\\u1ed5i) v\\u00e0 \\u00f4ng A Tu (b\\u1ecb th\\u01b0\\u01a1ng nh\\u1eb9). Sau khi \\u0111\\u01b0\\u1ee3c \\u0111\\u01b0a \\u0111i c\\u1ea5p c\\u1ee9u t\\u1ea1i b\\u1ec7nh vi\\u1ec7n, ch\\u00e1u A Ph\\u01b0\\u1edbc kh\\u00f4ng qua kh\\u1ecfi. Nh\\u1eefng n\\u1ea1n nh\\u00e2n c\\u00f2n l\\u1ea1i \\u0111ang \\u0111\\u01b0\\u1ee3c ti\\u1ebfp t\\u1ee5c \\u0111i\\u1ec1u tr\\u1ecb t\\u1ea1i b\\u00eanh vi\\u1ec7n. C\\u00e1c n\\u1ea1n nh\\u00e2n trong v\\u1ee5 vi\\u1ec7c \\u0111\\u1ec1u thu\\u1ed9c di\\u1ec7n h\\u1ed9 ngh\\u00e8o. UBND x\\u00e3 \\u0110\\u0103k Long \\u0111\\u00e3 h\\u1ed7 tr\\u1ee3 1 tri\\u1ec7u \\u0111\\u1ed3ng cho gia \\u0111\\u00ecnh c\\u00f3 ng\\u01b0\\u1eddi ch\\u1ebft; 500.000 \\u0111\\u1ed3ng cho gia \\u0111\\u00ecnh c\\u00f3 ng\\u01b0\\u1eddi b\\u1ecb th\\u01b0\\u01a1ng. Ngo\\u00e0i ra, nhi\\u1ec1u t\\u1ed5 ch\\u1ee9c, \\u0111o\\u00e0n th\\u1ec3 c\\u1ee7a huy\\u1ec7n \\u0110\\u0103k H\\u00e0 c\\u0169ng \\u0111\\u00e3 \\u0111\\u1ebfn th\\u0103m h\\u1ecfi, h\\u1ed7 tr\\u1ee3 gia \\u0111\\u00ecnh c\\u00e1c n\\u1ea1n nh\\u00e2n.\"\n        ],\n        \"semantic_type\": \"\",\n        \"description\": \"\"\n      }\n    },\n    {\n      \"column\": \"annotation_id\",\n      \"properties\": {\n        \"dtype\": \"number\",\n        \"std\": 526498,\n        \"min\": 18120397,\n        \"max\": 19986539,\n        \"num_unique_values\": 565,\n        \"samples\": [\n          19819993,\n          18923318,\n          18307959\n        ],\n        \"semantic_type\": \"\",\n        \"description\": \"\"\n      }\n    },\n    {\n      \"column\": \"Topic\",\n      \"properties\": {\n        \"dtype\": \"category\",\n        \"num_unique_values\": 47,\n        \"samples\": [\n          \"\\u0110\\u1eddi s\\u1ed1ng\",\n          \"Nh\\u00e0 \\u0111\\u1ea5t\",\n          \"TH\\u1edcI S\\u1ef0\"\n        ],\n        \"semantic_type\": \"\",\n        \"description\": \"\"\n      }\n    },\n    {\n      \"column\": \"Author\",\n      \"properties\": {\n        \"dtype\": \"category\",\n        \"num_unique_values\": 9,\n        \"samples\": [\n          \"Ti\\u1ec1n Phong\",\n          \"Ch\\u00ednh Ph\\u1ee7\",\n          \"D\\u00e2n Tr\\u00ed\"\n        ],\n        \"semantic_type\": \"\",\n        \"description\": \"\"\n      }\n    },\n    {\n      \"column\": \"Url\",\n      \"properties\": {\n        \"dtype\": \"string\",\n        \"num_unique_values\": 496,\n        \"samples\": [\n          \"https://plo.vn/khoi-to-nguyen-chu-tich-thanh-pho-bao-loc-post725061.html\",\n          \"https://plo.vn/tphcm-ket-noi-giao-thuong-va-xuc-tien-dau-tu-voi-cac-tinh-dong-nam-bo-post724422.html\",\n          \"https://nld.com.vn/thoi-su/nguoi-thu-3-vu-no-dau-dan-o-kon-tum-tu-vong-20230328104230882.htm\"\n        ],\n        \"semantic_type\": \"\",\n        \"description\": \"\"\n      }\n    },\n    {\n      \"column\": \"labels\",\n      \"properties\": {\n        \"dtype\": \"number\",\n        \"std\": 0,\n        \"min\": 0,\n        \"max\": 2,\n        \"num_unique_values\": 3,\n        \"samples\": [\n          1,\n          0,\n          2\n        ],\n        \"semantic_type\": \"\",\n        \"description\": \"\"\n      }\n    },\n    {\n      \"column\": \"Evidence\",\n      \"properties\": {\n        \"dtype\": \"string\",\n        \"num_unique_values\": 722,\n        \"samples\": [\n          \"g\\u1ea7n 3 4 d\\u00e2n_s\\u1ed1 to\\u00e0n_c\\u1ea7u t\\u1eeb 10 tu\\u1ed5i tr\\u1edf l\\u00ean \\u01b0\\u1edbc 73 d\\u00e2n_s\\u1ed1 s\\u1edf_h\\u1eefu \\u0111i\\u1ec7n_tho\\u1ea1i_di_\\u0111\\u1ed9ng \\u1edf c\\u00e1c n\\u01b0\\u1edbc c\\u00f3 thu_nh\\u1eadp th\\u1ea5p t\\u1ec9_l\\u1ec7 s\\u1edf_h\\u1eefu \\u0111i\\u1ec7n_tho\\u1ea1i_di_\\u0111\\u1ed9ng cao h\\u01a1n t\\u1ec9_l\\u1ec7 s\\u1eed_d\\u1ee5ng internet\",\n          \"c\\u1ed5_phi\\u1ebfu c\\u1ee7a ng\\u00e2n_h\\u00e0ng \\u0111\\u1ee9c ni\\u00eam_y\\u1ebft tr\\u00ean s\\u00e0n frankfurt \\u0111\\u00e3 gi\\u1ea3m phi\\u00ean th\\u1ee9 3 li\\u00ean_ti\\u1ebfp v\\u00e0 hi\\u1ec7n \\u0111\\u00e3 m\\u1ea5t 1 5 gi\\u00e1_tr\\u1ecb ch\\u1ec9 trong th\\u00e1ng n\\u00e0y cds m\\u1ed9t h\\u00ecnh_th\\u1ee9c b\\u1ea3o_hi\\u1ec3m cho c\\u00e1c tr\\u00e1i ch\\u1ee7 trong tr\\u01b0\\u1eddng_h\\u1ee3p c\\u00f4ng_ty v\\u1ee1_n\\u1ee3 \\u0111\\u00e3 t\\u0103ng v\\u1ecdt l\\u00ean 173 \\u0111i\\u1ec3m c\\u01a1_b\\u1ea3n trong t\\u1ed1i 23 3 t\\u1eeb m\\u1ee9c 142 \\u0111i\\u1ec3m c\\u01a1_b\\u1ea3n trong ng\\u00e0y tr\\u01b0\\u1edbc \\u0111\\u00f3 c\\u1ed5_phi\\u1ebfu c\\u1ee7a deutsche bank \\u0111\\u00e3 gi\\u1ea3m phi\\u00ean th\\u1ee9 3 li\\u00ean_ti\\u1ebfp khi h\\u1ee3p_\\u0111\\u1ed3ng ho\\u00e1n_\\u0111\\u1ed5i r\\u1ee7i_ro t\\u00edn_d\\u1ee5ng t\\u0103ng v\\u1ecdt\",\n          \"l\\u00e0 si\\u00eau t\\u00e0u container l\\u1edbn nh\\u1ea5t th\\u1ebf_gi\\u1edbi t\\u00e0u oocl spain m\\u1edbi xu\\u1ea5t_x\\u01b0\\u1edfng v\\u00e0o ng\\u00e0y 16 2 2023\"\n        ],\n        \"semantic_type\": \"\",\n        \"description\": \"\"\n      }\n    }\n  ]\n}"
            }
          },
          "metadata": {},
          "execution_count": 11
        }
      ]
    },
    {
      "cell_type": "code",
      "source": [
        "import warnings\n",
        "import logging\n",
        "import torch\n",
        "import pandas as pd\n",
        "import ast\n",
        "from torch import nn\n",
        "from torch.utils.data import Dataset, DataLoader\n",
        "from transformers import AutoModel, AutoTokenizer\n",
        "from sklearn.metrics import classification_report\n",
        "import transformers"
      ],
      "metadata": {
        "id": "s2W0v87J4UiC"
      },
      "execution_count": 12,
      "outputs": []
    },
    {
      "cell_type": "code",
      "source": [
        "class SentencePairDataset(Dataset):\n",
        "    def __init__(self, sentence_pairs, labels, tokenizer, max_length):\n",
        "        self.sentence_pairs = sentence_pairs\n",
        "        self.labels = labels\n",
        "        self.tokenizer = tokenizer\n",
        "        self.max_length = max_length\n",
        "\n",
        "    def __len__(self):\n",
        "        return len(self.sentence_pairs)\n",
        "\n",
        "    def __getitem__(self, idx):\n",
        "        sentence1, sentence2 = self.sentence_pairs[idx]\n",
        "        label = self.labels[idx]\n",
        "        encoding = self.tokenizer.encode_plus(\n",
        "            sentence1,\n",
        "            text_pair=sentence2,\n",
        "            add_special_tokens=True,\n",
        "            max_length=self.max_length,\n",
        "            return_token_type_ids=False,\n",
        "            padding=\"max_length\",\n",
        "            return_attention_mask=True,\n",
        "            return_tensors=\"pt\",\n",
        "            truncation=True,\n",
        "            return_overflowing_tokens=False\n",
        "        )\n",
        "        return {\n",
        "            \"input_ids\": encoding[\"input_ids\"].flatten(),\n",
        "            \"attention_mask\": encoding[\"attention_mask\"].flatten(),\n",
        "            \"label\": torch.tensor(label, dtype=torch.long),\n",
        "        }\n"
      ],
      "metadata": {
        "id": "_F20DOS988B2"
      },
      "execution_count": 13,
      "outputs": []
    },
    {
      "cell_type": "code",
      "source": [
        "class PhoBERTClassifier(nn.Module):\n",
        "    def __init__(self, phobert, num_classes):\n",
        "        super(PhoBERTClassifier, self).__init__()\n",
        "        self.phobert = phobert\n",
        "        self.dropout = nn.Dropout(0.3)\n",
        "        self.linear = nn.Linear(self.phobert.config.hidden_size, num_classes)\n",
        "\n",
        "    def forward(self, input_ids, attention_mask):\n",
        "        _, pooled_output = self.phobert(\n",
        "            input_ids=input_ids,\n",
        "            attention_mask=attention_mask,\n",
        "            return_dict=False,\n",
        "        )\n",
        "        dropout_output = self.dropout(pooled_output)\n",
        "        logits = self.linear(dropout_output)\n",
        "        return logits"
      ],
      "metadata": {
        "id": "msx2OMQS8-43"
      },
      "execution_count": 14,
      "outputs": []
    },
    {
      "cell_type": "code",
      "source": [
        "def prepare_dataset(data):\n",
        "    statements = list(data[\"Statement\"])\n",
        "    evidences = list(data[\"Evidence\"])\n",
        "\n",
        "    return [(s, e) for s, e in zip(statements, evidences)]"
      ],
      "metadata": {
        "id": "FJ-Y44vV9G2H"
      },
      "execution_count": 15,
      "outputs": []
    },
    {
      "cell_type": "code",
      "source": [
        "X_train = prepare_dataset(df_train)\n",
        "X_test = prepare_dataset(df_test)\n",
        "X_dev = prepare_dataset(df_dev)"
      ],
      "metadata": {
        "id": "T62FwdqB9Yf-"
      },
      "execution_count": 16,
      "outputs": []
    },
    {
      "cell_type": "code",
      "source": [
        "y_train = list(df_train[\"labels\"])\n",
        "y_test = list(df_test[\"labels\"])\n",
        "y_dev = list(df_dev[\"labels\"])\n"
      ],
      "metadata": {
        "id": "RrZrulSc9drz"
      },
      "execution_count": 17,
      "outputs": []
    },
    {
      "cell_type": "code",
      "source": [
        "tokenizer = AutoTokenizer.from_pretrained(\"vinai/phobert-base\")\n",
        "phobert = AutoModel.from_pretrained(\"vinai/phobert-base\")\n",
        "max_length = 256"
      ],
      "metadata": {
        "id": "439zUBGj9zIk"
      },
      "execution_count": 23,
      "outputs": []
    },
    {
      "cell_type": "code",
      "source": [
        "train_dataset = SentencePairDataset(X_train, y_train, tokenizer, max_length)\n",
        "dev_dataset = SentencePairDataset(X_dev, y_dev, tokenizer, max_length)\n",
        "test_dataset = SentencePairDataset(X_test, y_test, tokenizer, max_length)\n",
        "\n",
        "train_loader = DataLoader(train_dataset, batch_size=16,num_workers=8,shuffle=True)\n",
        "dev_loader = DataLoader(dev_dataset, batch_size=16,num_workers=8,shuffle=True)\n",
        "test_loader = DataLoader(test_dataset, batch_size=16,num_workers=8,shuffle=False)\n"
      ],
      "metadata": {
        "id": "-uwq3Y3J91gV"
      },
      "execution_count": 24,
      "outputs": []
    },
    {
      "cell_type": "code",
      "source": [
        "device = torch.device(\"cuda\" if torch.cuda.is_available() else \"cpu\")\n",
        "model = PhoBERTClassifier(phobert, num_classes=3).to(device)\n",
        "criterion = nn.CrossEntropyLoss()\n",
        "optimizer = torch.optim.AdamW(\n",
        "    model.parameters(),\n",
        "    lr=1e-5,\n",
        ")\n"
      ],
      "metadata": {
        "id": "vUuWSe3L-FJB"
      },
      "execution_count": 25,
      "outputs": []
    },
    {
      "cell_type": "code",
      "source": [
        "import torch\n",
        "import torch.nn as nn\n",
        "import torch.amp\n",
        "from sklearn.metrics import accuracy_score, f1_score\n",
        "from tqdm import tqdm\n",
        "def train_model_text_classification(model, train_loader, val_loader, criterion, optimizer,\n",
        "                                    num_epochs=10, device='cuda', early_stop_patience=3,\n",
        "                                    model_save_path='/content/drive/MyDrive/bao/model_pho_bert_base.pth', metric_to_monitor='acc'):\n",
        "\n",
        "    best_val_metric = -float('inf')\n",
        "    early_stop_counter = 0\n",
        "    best_epoch = 0\n",
        "\n",
        "    model.to(device)\n",
        "    # Lưu lịch sử để vẽ đồ thị\n",
        "    train_losses, val_losses = [], []\n",
        "    train_accuracies, val_accuracies = [], []\n",
        "    train_f1s, val_f1s = [], []\n",
        "\n",
        "    for epoch in range(num_epochs):\n",
        "        running_loss = 0.0\n",
        "        all_preds, all_labels = [], []\n",
        "\n",
        "        train_pbar = tqdm(train_loader, desc=f\"[Epoch {epoch+1}/{num_epochs}] Training\", leave=False)\n",
        "        for batch in train_pbar:\n",
        "            model.train()\n",
        "            input_ids = batch[\"input_ids\"].to(device)\n",
        "            attention_mask = batch[\"attention_mask\"].to(device)\n",
        "            labels = batch[\"label\"].to(device)\n",
        "\n",
        "            optimizer.zero_grad()\n",
        "\n",
        "            outputs = model(input_ids, attention_mask)\n",
        "            loss = criterion(outputs, labels)\n",
        "\n",
        "            loss.backward()\n",
        "            optimizer.step()\n",
        "\n",
        "            running_loss += loss.item()\n",
        "            _, predicted = torch.max(outputs, 1)\n",
        "            all_preds.extend(predicted.cpu().numpy())\n",
        "            all_labels.extend(labels.cpu().numpy())\n",
        "\n",
        "        train_loss = running_loss / len(train_loader)\n",
        "        train_acc = accuracy_score(all_labels, all_preds)\n",
        "        train_f1 = f1_score(all_labels, all_preds, average='macro', zero_division=0)\n",
        "\n",
        "        train_losses.append(train_loss)\n",
        "        train_accuracies.append(train_acc)\n",
        "        train_f1s.append(train_f1)\n",
        "\n",
        "        # Validation\n",
        "        model.eval()\n",
        "        val_loss = 0.0\n",
        "        val_preds, val_labels = [], []\n",
        "\n",
        "        with torch.no_grad():\n",
        "            val_pbar = tqdm(val_loader, desc=\"[Validation]\", leave=False)\n",
        "            for batch in val_pbar:\n",
        "                input_ids = batch[\"input_ids\"].to(device)\n",
        "                attention_mask = batch[\"attention_mask\"].to(device)\n",
        "                labels = batch[\"label\"].to(device)\n",
        "\n",
        "                outputs = model(input_ids, attention_mask)\n",
        "                loss = criterion(outputs, labels)\n",
        "\n",
        "                val_loss += loss.item()\n",
        "                _, predicted = torch.max(outputs, 1)\n",
        "                val_preds.extend(predicted.cpu().numpy())\n",
        "                val_labels.extend(labels.cpu().numpy())\n",
        "\n",
        "        val_loss /= len(val_loader)\n",
        "        val_acc = accuracy_score(val_labels, val_preds)\n",
        "        val_f1 = f1_score(val_labels, val_preds, average='macro', zero_division=0)\n",
        "\n",
        "        val_losses.append(val_loss)\n",
        "        val_accuracies.append(val_acc)\n",
        "        val_f1s.append(val_f1)\n",
        "\n",
        "\n",
        "        print(f\"\\n📊 Epoch {epoch+1}/{num_epochs}\")\n",
        "        print(f\"--- Train ---     Loss: {train_loss:.4f} | Acc: {train_acc*100:.2f}% | F1: {train_f1:.4f}\")\n",
        "        print(f\"--- Validation --- Loss: {val_loss:.4f} | Acc: {val_acc*100:.2f}% | F1: {val_f1:.4f}\")\n",
        "\n",
        "        current_val_metric = val_f1 if metric_to_monitor == 'f1' else val_acc\n",
        "\n",
        "        if current_val_metric > best_val_metric:\n",
        "            best_val_metric = current_val_metric\n",
        "            best_epoch = epoch\n",
        "            early_stop_counter = 0\n",
        "            torch.save(model.state_dict(), model_save_path)\n",
        "            print(f\"✅ Model improved & saved to {model_save_path}\")\n",
        "        else:\n",
        "            early_stop_counter += 1\n",
        "            print(f\"⏳ Early Stop Counter: {early_stop_counter}/{early_stop_patience}\")\n",
        "\n",
        "        if early_stop_counter >= early_stop_patience:\n",
        "            print(f\"\\n🛑 Early stopping triggered at epoch {epoch+1}. Best epoch: {best_epoch+1}\")\n",
        "            break\n",
        "\n",
        "    return train_losses, val_losses, train_accuracies, val_accuracies, train_f1s, val_f1s\n"
      ],
      "metadata": {
        "id": "3HVdelrb-HPx"
      },
      "execution_count": 26,
      "outputs": []
    },
    {
      "cell_type": "code",
      "source": [
        "train_losses, val_losses, train_accuracies, val_accuracies, train_f1s, val_f1s = train_model_text_classification(\n",
        "    model,\n",
        "    train_loader,\n",
        "    dev_loader,\n",
        "    criterion,\n",
        "    optimizer,\n",
        "    num_epochs=15,\n",
        "    early_stop_patience=7,\n",
        "    metric_to_monitor='acc'\n",
        ")\n"
      ],
      "metadata": {
        "id": "GfFS0u5-DLVW",
        "colab": {
          "base_uri": "https://localhost:8080/"
        },
        "outputId": "1e1c8533-626d-4358-a759-fcd517339d1e"
      },
      "execution_count": 27,
      "outputs": [
        {
          "output_type": "stream",
          "name": "stderr",
          "text": [
            "[Epoch 1/15] Training:  66%|██████▌   | 210/317 [01:06<00:34,  3.12it/s]Be aware, overflowing tokens are not returned for the setting you have chosen, i.e. sequence pairs with the 'longest_first' truncation strategy. So the returned list will always be empty even if some tokens have been removed.\n"
          ]
        },
        {
          "output_type": "stream",
          "name": "stdout",
          "text": [
            "\n",
            "📊 Epoch 1/15\n",
            "--- Train ---     Loss: 0.9960 | Acc: 48.54% | F1: 0.4767\n",
            "--- Validation --- Loss: 0.7981 | Acc: 66.25% | F1: 0.6460\n",
            "✅ Model improved & saved to /content/drive/MyDrive/bao/model_pho_bert_base.pth\n"
          ]
        },
        {
          "output_type": "stream",
          "name": "stderr",
          "text": [
            "[Epoch 2/15] Training:  17%|█▋        | 55/317 [00:17<01:22,  3.17it/s]Be aware, overflowing tokens are not returned for the setting you have chosen, i.e. sequence pairs with the 'longest_first' truncation strategy. So the returned list will always be empty even if some tokens have been removed.\n"
          ]
        },
        {
          "output_type": "stream",
          "name": "stdout",
          "text": [
            "\n",
            "📊 Epoch 2/15\n",
            "--- Train ---     Loss: 0.5996 | Acc: 76.02% | F1: 0.7573\n",
            "--- Validation --- Loss: 0.6464 | Acc: 75.66% | F1: 0.7590\n",
            "✅ Model improved & saved to /content/drive/MyDrive/bao/model_pho_bert_base.pth\n"
          ]
        },
        {
          "output_type": "stream",
          "name": "stderr",
          "text": [
            "[Epoch 3/15] Training:  77%|███████▋  | 243/317 [01:18<00:23,  3.11it/s]Be aware, overflowing tokens are not returned for the setting you have chosen, i.e. sequence pairs with the 'longest_first' truncation strategy. So the returned list will always be empty even if some tokens have been removed.\n"
          ]
        },
        {
          "output_type": "stream",
          "name": "stdout",
          "text": [
            "\n",
            "📊 Epoch 3/15\n",
            "--- Train ---     Loss: 0.4412 | Acc: 83.74% | F1: 0.8367\n",
            "--- Validation --- Loss: 0.6201 | Acc: 78.56% | F1: 0.7841\n",
            "✅ Model improved & saved to /content/drive/MyDrive/bao/model_pho_bert_base.pth\n"
          ]
        },
        {
          "output_type": "stream",
          "name": "stderr",
          "text": [
            "[Epoch 4/15] Training:  29%|██▊       | 91/317 [00:29<01:12,  3.12it/s]Be aware, overflowing tokens are not returned for the setting you have chosen, i.e. sequence pairs with the 'longest_first' truncation strategy. So the returned list will always be empty even if some tokens have been removed.\n"
          ]
        },
        {
          "output_type": "stream",
          "name": "stdout",
          "text": [
            "\n",
            "📊 Epoch 4/15\n",
            "--- Train ---     Loss: 0.3337 | Acc: 87.97% | F1: 0.8794\n",
            "--- Validation --- Loss: 0.5670 | Acc: 80.08% | F1: 0.7990\n",
            "✅ Model improved & saved to /content/drive/MyDrive/bao/model_pho_bert_base.pth\n"
          ]
        },
        {
          "output_type": "stream",
          "name": "stderr",
          "text": [
            "[Epoch 5/15] Training:  73%|███████▎  | 230/317 [01:13<00:27,  3.13it/s]Be aware, overflowing tokens are not returned for the setting you have chosen, i.e. sequence pairs with the 'longest_first' truncation strategy. So the returned list will always be empty even if some tokens have been removed.\n"
          ]
        },
        {
          "output_type": "stream",
          "name": "stdout",
          "text": [
            "\n",
            "📊 Epoch 5/15\n",
            "--- Train ---     Loss: 0.2604 | Acc: 90.97% | F1: 0.9096\n",
            "--- Validation --- Loss: 0.5961 | Acc: 80.22% | F1: 0.8027\n",
            "✅ Model improved & saved to /content/drive/MyDrive/bao/model_pho_bert_base.pth\n"
          ]
        },
        {
          "output_type": "stream",
          "name": "stderr",
          "text": [
            "[Epoch 6/15] Training:  53%|█████▎    | 168/317 [00:54<00:47,  3.13it/s]Be aware, overflowing tokens are not returned for the setting you have chosen, i.e. sequence pairs with the 'longest_first' truncation strategy. So the returned list will always be empty even if some tokens have been removed.\n"
          ]
        },
        {
          "output_type": "stream",
          "name": "stdout",
          "text": [
            "\n",
            "📊 Epoch 6/15\n",
            "--- Train ---     Loss: 0.1990 | Acc: 93.36% | F1: 0.9337\n",
            "--- Validation --- Loss: 0.6572 | Acc: 80.77% | F1: 0.8092\n",
            "✅ Model improved & saved to /content/drive/MyDrive/bao/model_pho_bert_base.pth\n"
          ]
        },
        {
          "output_type": "stream",
          "name": "stderr",
          "text": [
            "[Epoch 7/15] Training:  29%|██▊       | 91/317 [00:29<01:12,  3.12it/s]Be aware, overflowing tokens are not returned for the setting you have chosen, i.e. sequence pairs with the 'longest_first' truncation strategy. So the returned list will always be empty even if some tokens have been removed.\n"
          ]
        },
        {
          "output_type": "stream",
          "name": "stdout",
          "text": [
            "\n",
            "📊 Epoch 7/15\n",
            "--- Train ---     Loss: 0.1492 | Acc: 95.08% | F1: 0.9508\n",
            "--- Validation --- Loss: 0.6619 | Acc: 81.19% | F1: 0.8122\n",
            "✅ Model improved & saved to /content/drive/MyDrive/bao/model_pho_bert_base.pth\n"
          ]
        },
        {
          "output_type": "stream",
          "name": "stderr",
          "text": [
            "[Epoch 8/15] Training:  36%|███▋      | 115/317 [00:37<01:04,  3.12it/s]Be aware, overflowing tokens are not returned for the setting you have chosen, i.e. sequence pairs with the 'longest_first' truncation strategy. So the returned list will always be empty even if some tokens have been removed.\n"
          ]
        },
        {
          "output_type": "stream",
          "name": "stdout",
          "text": [
            "\n",
            "📊 Epoch 8/15\n",
            "--- Train ---     Loss: 0.1063 | Acc: 96.66% | F1: 0.9666\n",
            "--- Validation --- Loss: 0.7309 | Acc: 80.64% | F1: 0.8070\n",
            "⏳ Early Stop Counter: 1/7\n"
          ]
        },
        {
          "output_type": "stream",
          "name": "stderr",
          "text": [
            "[Epoch 9/15] Training:  66%|██████▌   | 210/317 [01:07<00:34,  3.12it/s]Be aware, overflowing tokens are not returned for the setting you have chosen, i.e. sequence pairs with the 'longest_first' truncation strategy. So the returned list will always be empty even if some tokens have been removed.\n"
          ]
        },
        {
          "output_type": "stream",
          "name": "stdout",
          "text": [
            "\n",
            "📊 Epoch 9/15\n",
            "--- Train ---     Loss: 0.0861 | Acc: 97.35% | F1: 0.9735\n",
            "--- Validation --- Loss: 0.8062 | Acc: 80.50% | F1: 0.8056\n",
            "⏳ Early Stop Counter: 2/7\n"
          ]
        },
        {
          "output_type": "stream",
          "name": "stderr",
          "text": [
            "[Epoch 10/15] Training:   0%|          | 0/317 [00:00<?, ?it/s]Be aware, overflowing tokens are not returned for the setting you have chosen, i.e. sequence pairs with the 'longest_first' truncation strategy. So the returned list will always be empty even if some tokens have been removed.\n"
          ]
        },
        {
          "output_type": "stream",
          "name": "stdout",
          "text": [
            "\n",
            "📊 Epoch 10/15\n",
            "--- Train ---     Loss: 0.0773 | Acc: 97.77% | F1: 0.9777\n",
            "--- Validation --- Loss: 0.8045 | Acc: 81.88% | F1: 0.8191\n",
            "✅ Model improved & saved to /content/drive/MyDrive/bao/model_pho_bert_base.pth\n"
          ]
        },
        {
          "output_type": "stream",
          "name": "stderr",
          "text": [
            "[Epoch 11/15] Training:  36%|███▌      | 113/317 [00:36<01:04,  3.14it/s]Be aware, overflowing tokens are not returned for the setting you have chosen, i.e. sequence pairs with the 'longest_first' truncation strategy. So the returned list will always be empty even if some tokens have been removed.\n"
          ]
        },
        {
          "output_type": "stream",
          "name": "stdout",
          "text": [
            "\n",
            "📊 Epoch 11/15\n",
            "--- Train ---     Loss: 0.0736 | Acc: 97.63% | F1: 0.9763\n",
            "--- Validation --- Loss: 0.7605 | Acc: 81.33% | F1: 0.8132\n",
            "⏳ Early Stop Counter: 1/7\n"
          ]
        },
        {
          "output_type": "stream",
          "name": "stderr",
          "text": [
            "[Epoch 12/15] Training:  22%|██▏       | 69/317 [00:22<01:19,  3.13it/s]Be aware, overflowing tokens are not returned for the setting you have chosen, i.e. sequence pairs with the 'longest_first' truncation strategy. So the returned list will always be empty even if some tokens have been removed.\n"
          ]
        },
        {
          "output_type": "stream",
          "name": "stdout",
          "text": [
            "\n",
            "📊 Epoch 12/15\n",
            "--- Train ---     Loss: 0.0554 | Acc: 98.14% | F1: 0.9814\n",
            "--- Validation --- Loss: 0.8032 | Acc: 82.16% | F1: 0.8210\n",
            "✅ Model improved & saved to /content/drive/MyDrive/bao/model_pho_bert_base.pth\n"
          ]
        },
        {
          "output_type": "stream",
          "name": "stderr",
          "text": [
            "[Epoch 13/15] Training:   0%|          | 0/317 [00:00<?, ?it/s]Be aware, overflowing tokens are not returned for the setting you have chosen, i.e. sequence pairs with the 'longest_first' truncation strategy. So the returned list will always be empty even if some tokens have been removed.\n"
          ]
        },
        {
          "output_type": "stream",
          "name": "stdout",
          "text": [
            "\n",
            "📊 Epoch 13/15\n",
            "--- Train ---     Loss: 0.0400 | Acc: 98.83% | F1: 0.9884\n",
            "--- Validation --- Loss: 0.8142 | Acc: 82.85% | F1: 0.8288\n",
            "✅ Model improved & saved to /content/drive/MyDrive/bao/model_pho_bert_base.pth\n"
          ]
        },
        {
          "output_type": "stream",
          "name": "stderr",
          "text": [
            "[Epoch 14/15] Training:  62%|██████▏   | 195/317 [01:02<00:39,  3.13it/s]Be aware, overflowing tokens are not returned for the setting you have chosen, i.e. sequence pairs with the 'longest_first' truncation strategy. So the returned list will always be empty even if some tokens have been removed.\n"
          ]
        },
        {
          "output_type": "stream",
          "name": "stdout",
          "text": [
            "\n",
            "📊 Epoch 14/15\n",
            "--- Train ---     Loss: 0.0395 | Acc: 98.66% | F1: 0.9866\n",
            "--- Validation --- Loss: 0.9150 | Acc: 81.60% | F1: 0.8145\n",
            "⏳ Early Stop Counter: 1/7\n"
          ]
        },
        {
          "output_type": "stream",
          "name": "stderr",
          "text": [
            "[Epoch 15/15] Training:  78%|███████▊  | 247/317 [01:19<00:22,  3.13it/s]Be aware, overflowing tokens are not returned for the setting you have chosen, i.e. sequence pairs with the 'longest_first' truncation strategy. So the returned list will always be empty even if some tokens have been removed.\n",
            "                                                             "
          ]
        },
        {
          "output_type": "stream",
          "name": "stdout",
          "text": [
            "\n",
            "📊 Epoch 15/15\n",
            "--- Train ---     Loss: 0.0284 | Acc: 99.09% | F1: 0.9909\n",
            "--- Validation --- Loss: 0.9522 | Acc: 80.50% | F1: 0.8057\n",
            "⏳ Early Stop Counter: 2/7\n"
          ]
        },
        {
          "output_type": "stream",
          "name": "stderr",
          "text": [
            "\r"
          ]
        }
      ]
    },
    {
      "cell_type": "code",
      "source": [
        "import matplotlib.pyplot as plt\n",
        "def plot_metrics(train_losses, val_losses, train_accuracies, val_accuracies):\n",
        "    epochs = range(1, len(train_losses) + 1)\n",
        "\n",
        "    plt.figure(figsize=(12, 5))\n",
        "\n",
        "    # Loss Plot\n",
        "    plt.subplot(1, 2, 1)\n",
        "    plt.plot(epochs, train_losses, 'b', label='Training loss')\n",
        "    plt.plot(epochs, val_losses, 'r', label='Validation loss')\n",
        "    plt.title('Training and Validation Loss')\n",
        "    plt.xlabel('Epochs')\n",
        "    plt.ylabel('Loss')\n",
        "    plt.legend()\n",
        "\n",
        "    # Accuracy Plot\n",
        "    plt.subplot(1, 2, 2)\n",
        "    plt.plot(epochs, train_accuracies, 'b', label='Training accuracy')\n",
        "    plt.plot(epochs, val_accuracies, 'r', label='Validation accuracy')\n",
        "    plt.title('Training and Validation Accuracy')\n",
        "    plt.xlabel('Epochs')\n",
        "    plt.ylabel('Accuracy')\n",
        "    plt.legend()\n",
        "\n",
        "    plt.tight_layout()\n",
        "    plt.show()\n",
        "\n",
        "plot_metrics(train_losses, val_losses, train_accuracies, val_accuracies)"
      ],
      "metadata": {
        "colab": {
          "base_uri": "https://localhost:8080/",
          "height": 507
        },
        "id": "14sDFeu3zgNN",
        "outputId": "42cb7392-51b1-42e9-b61e-606a005f8c24"
      },
      "execution_count": 28,
      "outputs": [
        {
          "output_type": "display_data",
          "data": {
            "text/plain": [
              "<Figure size 1200x500 with 2 Axes>"
            ],
            "image/png": "[encoded data removed]"
          },
          "metadata": {}
        }
      ]
    },
    {
      "cell_type": "code",
      "source": [],
      "metadata": {
        "id": "Eihe6uyjz6Q6"
      },
      "execution_count": null,
      "outputs": []
    },
    {
      "cell_type": "code",
      "source": [
        "def test_model_text_classification(model, test_loader, model_path,\n",
        "                                   device='cuda', return_preds=False):\n",
        "    import numpy as np\n",
        "    from sklearn.metrics import accuracy_score, f1_score, classification_report\n",
        "\n",
        "    # Load model đã huấn luyện\n",
        "    model.load_state_dict(torch.load(model_path, map_location=device))\n",
        "    model.to(device)\n",
        "    model.eval()\n",
        "\n",
        "    all_preds, all_labels = [], []\n",
        "\n",
        "    with torch.no_grad():\n",
        "        test_pbar = tqdm(test_loader, desc=\"[Testing]\", leave=False)\n",
        "        for batch in test_pbar:\n",
        "            input_ids = batch[\"input_ids\"].to(device)\n",
        "            attention_mask = batch[\"attention_mask\"].to(device)\n",
        "            labels = batch[\"label\"].to(device)\n",
        "\n",
        "            outputs = model(input_ids, attention_mask)\n",
        "            _, predicted = torch.max(outputs, dim=1)\n",
        "\n",
        "            all_preds.extend(predicted.cpu().numpy())\n",
        "            all_labels.extend(labels.cpu().numpy())\n",
        "\n",
        "    acc = accuracy_score(all_labels, all_preds)\n",
        "    f1 = f1_score(all_labels, all_preds, average='macro', zero_division=0)\n",
        "\n",
        "    print(\"\\n📊 Test Results:\")\n",
        "    print(f\"Accuracy: {acc * 100:.2f}%\")\n",
        "    print(f\"F1-score: {f1:.4f}\")\n",
        "    print(\"\\nDetailed Report:\\n\", classification_report(all_labels, all_preds, zero_division=0))\n",
        "\n",
        "    if return_preds:\n",
        "        return all_labels, all_preds\n",
        "    else:\n",
        "        return acc, f1\n"
      ],
      "metadata": {
        "id": "_xz7Sopy1c5i"
      },
      "execution_count": 29,
      "outputs": []
    },
    {
      "cell_type": "code",
      "source": [
        "test_model_text_classification(model, test_loader, model_path=\"/content/drive/MyDrive/bao/model_pho_bert_base.pth\")"
      ],
      "metadata": {
        "colab": {
          "base_uri": "https://localhost:8080/"
        },
        "id": "9tL5O8xtzVAx",
        "outputId": "6d5369ee-df0d-4d82-aa09-b955a3df456e"
      },
      "execution_count": 30,
      "outputs": [
        {
          "output_type": "stream",
          "name": "stderr",
          "text": [
            "[Testing]:   3%|▎         | 3/91 [00:00<00:16,  5.19it/s]Be aware, overflowing tokens are not returned for the setting you have chosen, i.e. sequence pairs with the 'longest_first' truncation strategy. So the returned list will always be empty even if some tokens have been removed.\n",
            "[Testing]:  67%|██████▋   | 61/91 [00:06<00:03,  9.72it/s]Be aware, overflowing tokens are not returned for the setting you have chosen, i.e. sequence pairs with the 'longest_first' truncation strategy. So the returned list will always be empty even if some tokens have been removed.\n",
            "                                                          "
          ]
        },
        {
          "output_type": "stream",
          "name": "stdout",
          "text": [
            "\n",
            "📊 Test Results:\n",
            "Accuracy: 84.17%\n",
            "F1-score: 0.8422\n",
            "\n",
            "Detailed Report:\n",
            "               precision    recall  f1-score   support\n",
            "\n",
            "           0       0.82      0.87      0.84       508\n",
            "           1       0.80      0.83      0.82       468\n",
            "           2       0.92      0.82      0.87       471\n",
            "\n",
            "    accuracy                           0.84      1447\n",
            "   macro avg       0.85      0.84      0.84      1447\n",
            "weighted avg       0.85      0.84      0.84      1447\n",
            "\n"
          ]
        },
        {
          "output_type": "stream",
          "name": "stderr",
          "text": [
            "\r"
          ]
        },
        {
          "output_type": "execute_result",
          "data": {
            "text/plain": [
              "(0.8417415342087077, 0.8421607510105044)"
            ]
          },
          "metadata": {},
          "execution_count": 30
        }
      ]
    },
    {
      "cell_type": "code",
      "source": [],
      "metadata": {
        "id": "5-x2cmN7z3RD"
      },
      "execution_count": null,
      "outputs": []
    }
  ]
}